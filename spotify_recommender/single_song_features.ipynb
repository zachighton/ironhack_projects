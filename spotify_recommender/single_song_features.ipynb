{
 "cells": [
  {
   "cell_type": "markdown",
   "metadata": {},
   "source": [
    "# Song Recommendation Project"
   ]
  },
  {
   "cell_type": "markdown",
   "metadata": {},
   "source": [
    "## Imports"
   ]
  },
  {
   "cell_type": "code",
   "execution_count": 1,
   "metadata": {},
   "outputs": [],
   "source": [
    "import spotipy\n",
    "from spotipy.oauth2 import SpotifyClientCredentials\n",
    "import pandas as pd\n",
    "from tqdm.notebook import tqdm\n",
    "from time import sleep"
   ]
  },
  {
   "cell_type": "code",
   "execution_count": 2,
   "metadata": {},
   "outputs": [],
   "source": [
    "from bs4 import BeautifulSoup\n",
    "import requests\n",
    "from tqdm.notebook import tqdm\n",
    "import numpy as np\n",
    "import random\n",
    "import Levenshtein as lev"
   ]
  },
  {
   "cell_type": "code",
   "execution_count": 3,
   "metadata": {},
   "outputs": [],
   "source": [
    "import pandas as pd\n",
    "import matplotlib.pyplot as plt\n",
    "import seaborn as sns\n",
    "from sklearn.cluster import KMeans\n",
    "from sklearn.preprocessing import StandardScaler"
   ]
  },
  {
   "cell_type": "code",
   "execution_count": 4,
   "metadata": {},
   "outputs": [],
   "source": [
    "## Credentials\n",
    "import getpass\n",
    "client_id = str(getpass.getpass('client_id'))\n",
    "client_secret = str(getpass.getpass('client_secret'))\n"
   ]
  },
  {
   "cell_type": "code",
   "execution_count": 5,
   "metadata": {},
   "outputs": [],
   "source": [
    "sp = spotipy.Spotify(auth_manager=SpotifyClientCredentials(client_id=client_id, client_secret=client_secret))"
   ]
  },
  {
   "cell_type": "code",
   "execution_count": 6,
   "metadata": {},
   "outputs": [],
   "source": [
    "df_orig = pd.read_csv('full_features.csv')"
   ]
  },
  {
   "cell_type": "markdown",
   "metadata": {},
   "source": [
    "## Defining Functions"
   ]
  },
  {
   "cell_type": "code",
   "execution_count": 7,
   "metadata": {},
   "outputs": [],
   "source": [
    "# look up for single song\n",
    "\n",
    "def feature_lookup(song_title):\n",
    "\n",
    "    song_reccomender.song = sp.search(q=song_title)\n",
    "\n",
    "    feature_lookup.id = song_reccomender.song['tracks']['items'][0]['id']\n",
    "    artist = song_reccomender.song['tracks']['items'][0]['album']['artists'][0]['name']\n",
    "    title = song_reccomender.song['tracks']['items'][0]['name']\n",
    "\n",
    "    print('Good news! We found', title, 'by', artist, 'on Spotify.')    \n",
    "    print('Please wait a few seconds for us to retrieve your recommendation.')\n",
    "\n",
    "    return pd.DataFrame(sp.audio_features(tracks=feature_lookup.id))"
   ]
  },
  {
   "cell_type": "code",
   "execution_count": 8,
   "metadata": {},
   "outputs": [],
   "source": [
    "# getting a reccomender off that song\n",
    "\n",
    "def spotify_recommender():\n",
    "\n",
    "    #user input\n",
    "    df_song = feature_lookup(song_reccomender.song)\n",
    "\n",
    "    # combining with original dataframe\n",
    "\n",
    "    df = pd.concat([df_orig, df_song]).drop_duplicates()\n",
    "\n",
    "    # basic cleaning\n",
    "\n",
    "    df.rename_axis(None, inplace=True)\n",
    "    df_numeric = df._get_numeric_data()\n",
    "    df_numeric = df_numeric.drop(['Unnamed: 0', 'level_0', 'index'], axis=1)\n",
    "\n",
    "    # running the scaler\n",
    "\n",
    "    df_scaled = StandardScaler().fit_transform(df_numeric)\n",
    "    df_scaled_df = pd.DataFrame(df_scaled, columns=df_numeric.columns)\n",
    "\n",
    "    # getting the index\n",
    "    \n",
    "    df_scaled_df.index = df['id']\n",
    "    df_scaled_df.rename_axis(None, inplace=True)\n",
    "\n",
    "    # kmeans\n",
    "\n",
    "    kmeans = KMeans(n_clusters=250)\n",
    "    cluster_scaled = kmeans.fit(df_scaled_df)\n",
    "    df['cluster'] = cluster_scaled.labels_\n",
    "\n",
    "    # getting back the cluster of the chosen song\n",
    "\n",
    "    chosen_song_cluster = df[df['id'] == feature_lookup.id]['cluster'].item()\n",
    "\n",
    "    # filtering out that song from data frame\n",
    "\n",
    "    df1 = df[df['id'] != feature_lookup.id]\n",
    "\n",
    "    # choosing a single song to reccommend\n",
    "\n",
    "    suggestion = df1[df1['cluster'] == chosen_song_cluster].sample()\n",
    "    print('If you like that, try this instrumental tune:', '\\''+suggestion['song'].item()+'\\'', 'by', suggestion['artist'].item())    "
   ]
  },
  {
   "cell_type": "code",
   "execution_count": 9,
   "metadata": {},
   "outputs": [],
   "source": [
    "# function to scrape top songs\n",
    "\n",
    "def scrape_billboard():\n",
    "    url = 'https://www.billboard.com/charts/hot-100/'\n",
    "    response = requests.get(url)\n",
    "\n",
    "    soup = BeautifulSoup(response.content)\n",
    "\n",
    "    artist = []\n",
    "    title = []\n",
    "\n",
    "    length = len(soup.select('li.lrv-u-width-100p > ul > li.o-chart-results-list__item.\\\\/\\\\/.lrv-u-flex-grow-1.lrv-u-flex.lrv-u-flex-direction-column.lrv-u-justify-content-center.lrv-u-border-b-1.u-border-b-0\\\\@mobile-max.lrv-u-border-color-grey-light.lrv-u-padding-l-1\\\\@mobile-max > span'))\n",
    "\n",
    "    for i in tqdm(range(length)):\n",
    "        artist.append(soup.select('li.lrv-u-width-100p > ul > li.o-chart-results-list__item.\\\\/\\\\/.lrv-u-flex-grow-1.lrv-u-flex.lrv-u-flex-direction-column.lrv-u-justify-content-center.lrv-u-border-b-1.u-border-b-0\\\\@mobile-max.lrv-u-border-color-grey-light.lrv-u-padding-l-1\\\\@mobile-max > span')[i].text)\n",
    "        title.append(soup.select('div.chart-results-list li.o-chart-results-list__item h3')[i].text)\n",
    "\n",
    "    scrape_billboard.df = pd.DataFrame({'title':title, 'artist':artist})\n",
    "\n",
    "    scrape_billboard.df['title'] = scrape_billboard.df['title'].apply(lambda x:x.strip('\\n'))\n",
    "    scrape_billboard.df['artist'] = scrape_billboard.df['artist'].apply(lambda x:x.strip('\\n'))\n",
    "    scrape_billboard.df['rank'] = np.arange(1, len(scrape_billboard.df)+1)"
   ]
  },
  {
   "cell_type": "code",
   "execution_count": 10,
   "metadata": {},
   "outputs": [
    {
     "data": {
      "application/vnd.jupyter.widget-view+json": {
       "model_id": "746fcc5cae314f39b3dfe3480b549fd9",
       "version_major": 2,
       "version_minor": 0
      },
      "text/plain": [
       "  0%|          | 0/100 [00:00<?, ?it/s]"
      ]
     },
     "metadata": {},
     "output_type": "display_data"
    }
   ],
   "source": [
    "scrape_billboard()"
   ]
  },
  {
   "cell_type": "markdown",
   "metadata": {},
   "source": [
    "## Final Product"
   ]
  },
  {
   "cell_type": "code",
   "execution_count": 11,
   "metadata": {},
   "outputs": [],
   "source": [
    "def song_reccomender():\n",
    "\n",
    "    print('Hey there,')\n",
    "    sleep(0.2)\n",
    "    print('I\\'m a song reccomendation engine.')\n",
    "    sleep(0.2)\n",
    "    print('hot song >>> other hot song')\n",
    "    sleep(0.2)\n",
    "    print('some other song >>> instrumental study song')\n",
    "    sleep(0.2)\n",
    "    print('Sound good?')\n",
    "    sleep(0.2)\n",
    "    print('Enter a song above ^^^ \\n')\n",
    "\n",
    "    attempts = 0\n",
    "    while attempts < 5:\n",
    "\n",
    "    # input\n",
    "\n",
    "        song_reccomender.song = input('Type in a song: ')\n",
    "\n",
    "    # no input: continue asking\n",
    "\n",
    "        if song_reccomender.song == '':\n",
    "            attempts +=1\n",
    "            if attempts == 5:\n",
    "                print('That\\'s it. I give up! You\\'ll have to try again later!')\n",
    "            else:\n",
    "                print('At least type something...')\n",
    "        \n",
    "        # if not a match:\n",
    "\n",
    "        elif ((scrape_billboard.df['title'].apply(lambda x:x.lower()) == song_reccomender.song.lower()) == False).all():\n",
    "\n",
    "                # check if there is a near match\n",
    "                string_list = []\n",
    "                for row in range(len(scrape_billboard.df['title'])):\n",
    "                    Str1 = song_reccomender.song\n",
    "                    Str2 = scrape_billboard.df.iloc[row]['title']\n",
    "                    distance = lev.distance(Str1.lower(),Str2.lower())\n",
    "                    if distance < 3:\n",
    "                        string_list.append(Str2)\n",
    "\n",
    "                if bool(string_list):\n",
    "\n",
    "                    for string in string_list:\n",
    "\n",
    "                        artist_input = scrape_billboard.df[scrape_billboard.df['title'].apply(lambda x:x.lower()) == string.lower()]['artist'].item()\n",
    "                        print('Did you mean', '\\''+string+'\\'', 'by', artist_input + '? Because that\\'s a hot song right now!')\n",
    "                        \n",
    "                        rand = random.randint(0, 100)\n",
    "\n",
    "                        if rand != int(scrape_billboard.df[scrape_billboard.df['title'].apply(lambda x:x.lower()) == string.lower()]['rank']):\n",
    "\n",
    "                            suggested_title = scrape_billboard.df[scrape_billboard.df['rank'] == rand]['title'].item()\n",
    "\n",
    "                            suggested_artist = scrape_billboard.df[scrape_billboard.df['rank'] == rand]['artist'].item()\n",
    "\n",
    "                            print('If that\\'s the song you meant, here\\'s another song you might like: ', '\\''+suggested_title+'\\'', \n",
    "                            'by',suggested_artist)\n",
    "                    \n",
    "                    break\n",
    "\n",
    "                #integrating spotify \n",
    "        \n",
    "                else:\n",
    "                    spotify_recommender()\n",
    "\n",
    "                    break\n",
    "        \n",
    "        # if match: response + suggest new song\n",
    "\n",
    "        elif scrape_billboard.df['title'].apply(lambda x:x.lower()).str.contains(song_reccomender.song.lower()).any():\n",
    "            \n",
    "            song_input = scrape_billboard.df[scrape_billboard.df['title'].apply(lambda x:x.lower()) == song_reccomender.song.lower()]['title'].item()\n",
    "            artist_input = scrape_billboard.df[scrape_billboard.df['title'].apply(lambda x:x.lower()) == song_reccomender.song.lower()]['artist'].item()\n",
    "            \n",
    "            print('Good choice!', '\\''+song_input+'\\'', 'by', artist_input, 'is a hot song right now!' )\n",
    "\n",
    "            rand = random.randint(0, 100)\n",
    "\n",
    "            if rand != int(scrape_billboard.df[scrape_billboard.df['title'].apply(lambda x:x.lower()) == song_reccomender.song.lower()]['rank']):\n",
    "                \n",
    "                suggested_title = scrape_billboard.df[scrape_billboard.df['rank'] == rand]['title'].item()\n",
    "\n",
    "                suggested_artist = scrape_billboard.df[scrape_billboard.df['rank'] == rand]['artist'].item()\n",
    "\n",
    "                print('Here\\'s another song you might like:', '\\''+suggested_title+'\\'', \n",
    "                'by',suggested_artist)\n",
    "\n",
    "            break"
   ]
  },
  {
   "cell_type": "code",
   "execution_count": 18,
   "metadata": {},
   "outputs": [
    {
     "name": "stdout",
     "output_type": "stream",
     "text": [
      "Hey there,\n",
      "I'm a song reccomendation engine.\n",
      "hot song >>> other hot song\n",
      "some other song >>> instrumental study song\n",
      "Sound good?\n",
      "Enter a song above ^^^ \n",
      "\n",
      "Good choice! 'Shivers' by Ed Sheeran is a hot song right now!\n",
      "Here's another song you might like: 'Oh My God' by Adele\n"
     ]
    }
   ],
   "source": [
    "# need to ask whether that was the song someone meant\n",
    "song_reccomender()"
   ]
  },
  {
   "cell_type": "code",
   "execution_count": 17,
   "metadata": {},
   "outputs": [],
   "source": [
    "# fix duplicates"
   ]
  }
 ],
 "metadata": {
  "interpreter": {
   "hash": "aa2d5c2f16a8e749f1d48e9a236e4b14f675e3e0a88517126fa8ace0eecda256"
  },
  "kernelspec": {
   "display_name": "Python 3.9.7 64-bit ('da_env': conda)",
   "language": "python",
   "name": "python3"
  },
  "language_info": {
   "codemirror_mode": {
    "name": "ipython",
    "version": 3
   },
   "file_extension": ".py",
   "mimetype": "text/x-python",
   "name": "python",
   "nbconvert_exporter": "python",
   "pygments_lexer": "ipython3",
   "version": "3.9.7"
  },
  "orig_nbformat": 4
 },
 "nbformat": 4,
 "nbformat_minor": 2
}

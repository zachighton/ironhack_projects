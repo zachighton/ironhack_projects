{
 "cells": [
  {
   "cell_type": "markdown",
   "metadata": {},
   "source": [
    "# Song Recommendation Project"
   ]
  },
  {
   "cell_type": "markdown",
   "metadata": {},
   "source": [
    "## Imports"
   ]
  },
  {
   "cell_type": "code",
   "execution_count": 1,
   "metadata": {},
   "outputs": [],
   "source": [
    "import spotipy\n",
    "from spotipy.oauth2 import SpotifyClientCredentials\n",
    "import pandas as pd\n",
    "from tqdm.notebook import tqdm\n",
    "from time import sleep\n",
    "\n",
    "from IPython.core.display import display\n",
    "from IPython.display import IFrame"
   ]
  },
  {
   "cell_type": "code",
   "execution_count": 2,
   "metadata": {},
   "outputs": [],
   "source": [
    "from bs4 import BeautifulSoup\n",
    "import requests\n",
    "from tqdm.notebook import tqdm\n",
    "import numpy as np\n",
    "import random\n",
    "import Levenshtein as lev"
   ]
  },
  {
   "cell_type": "code",
   "execution_count": 3,
   "metadata": {},
   "outputs": [],
   "source": [
    "import pandas as pd\n",
    "import matplotlib.pyplot as plt\n",
    "import seaborn as sns\n",
    "from sklearn.cluster import KMeans\n",
    "from sklearn.preprocessing import StandardScaler"
   ]
  },
  {
   "cell_type": "code",
   "execution_count": 4,
   "metadata": {},
   "outputs": [
    {
     "name": "stdout",
     "output_type": "stream",
     "text": [
      "client_id········\n",
      "client_secret········\n"
     ]
    }
   ],
   "source": [
    "## Credentials\n",
    "import getpass\n",
    "client_id = str(getpass.getpass('client_id'))\n",
    "client_secret = str(getpass.getpass('client_secret'))\n"
   ]
  },
  {
   "cell_type": "code",
   "execution_count": 5,
   "metadata": {},
   "outputs": [],
   "source": [
    "sp = spotipy.Spotify(auth_manager=SpotifyClientCredentials(client_id=client_id, client_secret=client_secret))"
   ]
  },
  {
   "cell_type": "code",
   "execution_count": 6,
   "metadata": {},
   "outputs": [],
   "source": [
    "df_orig = pd.read_csv('full_features.csv')"
   ]
  },
  {
   "cell_type": "markdown",
   "metadata": {},
   "source": [
    "## Defining Functions"
   ]
  },
  {
   "cell_type": "code",
   "execution_count": 7,
   "metadata": {},
   "outputs": [],
   "source": [
    "# function to search spotify and make a reccomendation\n",
    "def spotify_search():\n",
    "    id = song_recommender.song_spotify['tracks']['items'][0]['id']\n",
    "    artist = song_recommender.song_spotify['tracks']['items'][0]['album']['artists'][0]['name']\n",
    "    title = song_recommender.song_spotify['tracks']['items'][0]['name']\n",
    "\n",
    "    print('That\\'s not a hot song... but good news! We found', '\\''+title+'\\'', 'by', artist, 'on Spotify.')    \n",
    "    print('Please wait a few seconds for us to retrieve your recommendation.\\n')\n",
    "\n",
    "    df_song = pd.DataFrame(sp.audio_features(tracks=id))\n",
    "\n",
    "    df = pd.concat([df_orig, df_song]).drop_duplicates()\n",
    "\n",
    "    # basic cleaning\n",
    "\n",
    "    df.rename_axis(None, inplace=True)\n",
    "    df_numeric = df._get_numeric_data()\n",
    "    df_numeric = df_numeric.drop(['Unnamed: 0', 'level_0', 'index'], axis=1)\n",
    "\n",
    "    # running the scaler\n",
    "\n",
    "    df_scaled = StandardScaler().fit_transform(df_numeric)\n",
    "    df_scaled_df = pd.DataFrame(df_scaled, columns=df_numeric.columns)\n",
    "\n",
    "    # getting the index\n",
    "                        \n",
    "    df_scaled_df.index = df['id']\n",
    "    df_scaled_df.rename_axis(None, inplace=True)\n",
    "\n",
    "    # kmeans\n",
    "\n",
    "    kmeans = KMeans(n_clusters=250)\n",
    "    cluster_scaled = kmeans.fit(df_scaled_df)\n",
    "    df['cluster'] = cluster_scaled.labels_\n",
    "\n",
    "    # getting back the cluster of the chosen song\n",
    "\n",
    "    chosen_song_cluster = df[df['id'] == id]['cluster'][0].item()\n",
    "\n",
    "    # filtering out that song from data frame\n",
    "\n",
    "    df1 = df[df['id'] != id]\n",
    "\n",
    "    # choosing a random song to reccommend from the same cluster\n",
    "\n",
    "    suggestion = df1[df1['cluster'] == chosen_song_cluster].sample()\n",
    "    print('We think you might like this instrumental tune:', '\\''+suggestion['song'].item()+'\\'', 'by', suggestion['artist'].item())\n",
    "\n",
    "    # showing player\n",
    "\n",
    "    display(IFrame(src=f\"https://open.spotify.com/embed/track/{suggestion['id'].item()}\",\n",
    "               width=\"320\",\n",
    "               height=\"80\",\n",
    "               frameborder=\"0\",\n",
    "               allowtransparency=\"true\",\n",
    "               allow=\"encrypted-media\",\n",
    "              ))"
   ]
  },
  {
   "cell_type": "code",
   "execution_count": 8,
   "metadata": {},
   "outputs": [],
   "source": [
    "# function to scrape top songs\n",
    "\n",
    "def scrape_billboard():\n",
    "    url = 'https://www.billboard.com/charts/hot-100/'\n",
    "    response = requests.get(url)\n",
    "\n",
    "    soup = BeautifulSoup(response.content)\n",
    "\n",
    "    artist = []\n",
    "    title = []\n",
    "\n",
    "    length = len(soup.select('li.lrv-u-width-100p > ul > li.o-chart-results-list__item.\\\\/\\\\/.lrv-u-flex-grow-1.lrv-u-flex.lrv-u-flex-direction-column.lrv-u-justify-content-center.lrv-u-border-b-1.u-border-b-0\\\\@mobile-max.lrv-u-border-color-grey-light.lrv-u-padding-l-1\\\\@mobile-max > span'))\n",
    "\n",
    "    for i in tqdm(range(length)):\n",
    "        artist.append(soup.select('li.lrv-u-width-100p > ul > li.o-chart-results-list__item.\\\\/\\\\/.lrv-u-flex-grow-1.lrv-u-flex.lrv-u-flex-direction-column.lrv-u-justify-content-center.lrv-u-border-b-1.u-border-b-0\\\\@mobile-max.lrv-u-border-color-grey-light.lrv-u-padding-l-1\\\\@mobile-max > span')[i].text)\n",
    "        title.append(soup.select('div.chart-results-list li.o-chart-results-list__item h3')[i].text)\n",
    "\n",
    "    scrape_billboard.df = pd.DataFrame({'title':title, 'artist':artist})\n",
    "\n",
    "    scrape_billboard.df['title'] = scrape_billboard.df['title'].apply(lambda x:x.strip('\\n'))\n",
    "    scrape_billboard.df['artist'] = scrape_billboard.df['artist'].apply(lambda x:x.strip('\\n'))\n",
    "    scrape_billboard.df['rank'] = np.arange(1, len(scrape_billboard.df)+1)"
   ]
  },
  {
   "cell_type": "code",
   "execution_count": 9,
   "metadata": {},
   "outputs": [],
   "source": [
    "def spotify_player():\n",
    "\n",
    "    song_recommender.song_spotify = sp.search(q=suggested_title)\n",
    "    id = song_recommender.song_spotify['tracks']['items'][0]['id']\n",
    "    display(IFrame(src=f\"https://open.spotify.com/embed/track/{id}\",\n",
    "                width=\"320\",\n",
    "                height=\"80\",\n",
    "                frameborder=\"0\",\n",
    "                allowtransparency=\"true\",\n",
    "                allow=\"encrypted-media\",\n",
    "                ))"
   ]
  },
  {
   "cell_type": "code",
   "execution_count": 10,
   "metadata": {},
   "outputs": [],
   "source": [
    "# function to search spotify and make a reccomendation\n",
    "def spotify_search_2():\n",
    "    id = song_recommender.song_spotify['tracks']['items'][0]['id']\n",
    "    artist = song_recommender.song_spotify['tracks']['items'][0]['album']['artists'][0]['name']\n",
    "    title = song_recommender.song_spotify['tracks']['items'][0]['name']\n",
    "\n",
    "    print('Good news! We found', '\\''+title+'\\'', 'by', artist, 'on Spotify.')    \n",
    "    print('Please wait a few seconds for us to retrieve your recommendation.\\n')\n",
    "\n",
    "    df_song = pd.DataFrame(sp.audio_features(tracks=id))\n",
    "\n",
    "    df = pd.concat([df_orig, df_song]).drop_duplicates()\n",
    "\n",
    "    # basic cleaning\n",
    "\n",
    "    df.rename_axis(None, inplace=True)\n",
    "    df_numeric = df._get_numeric_data()\n",
    "    df_numeric = df_numeric.drop(['Unnamed: 0', 'level_0', 'index'], axis=1)\n",
    "\n",
    "    # running the scaler\n",
    "\n",
    "    df_scaled = StandardScaler().fit_transform(df_numeric)\n",
    "    df_scaled_df = pd.DataFrame(df_scaled, columns=df_numeric.columns)\n",
    "\n",
    "    # getting the index\n",
    "                        \n",
    "    df_scaled_df.index = df['id']\n",
    "    df_scaled_df.rename_axis(None, inplace=True)\n",
    "\n",
    "    # kmeans\n",
    "\n",
    "    kmeans = KMeans(n_clusters=250)\n",
    "    cluster_scaled = kmeans.fit(df_scaled_df)\n",
    "    df['cluster'] = cluster_scaled.labels_\n",
    "\n",
    "    # getting back the cluster of the chosen song\n",
    "\n",
    "    chosen_song_cluster = df[df['id'] == id]['cluster'][0].item()\n",
    "\n",
    "    # filtering out that song from data frame\n",
    "\n",
    "    df1 = df[df['id'] != id]\n",
    "\n",
    "    # choosing a random song to reccommend from the same cluster\n",
    "\n",
    "    suggestion = df1[df1['cluster'] == chosen_song_cluster].sample()\n",
    "    print('We think you might like this instrumental tune:', '\\''+suggestion['song'].item()+'\\'', 'by', suggestion['artist'].item())\n",
    "\n",
    "    # showing player\n",
    "\n",
    "    display(IFrame(src=f\"https://open.spotify.com/embed/track/{suggestion['id'].item()}\",\n",
    "               width=\"320\",\n",
    "               height=\"80\",\n",
    "               frameborder=\"0\",\n",
    "               allowtransparency=\"true\",\n",
    "               allow=\"encrypted-media\",\n",
    "              ))"
   ]
  },
  {
   "cell_type": "markdown",
   "metadata": {},
   "source": [
    "## Final Product"
   ]
  },
  {
   "cell_type": "code",
   "execution_count": 11,
   "metadata": {},
   "outputs": [
    {
     "data": {
      "application/vnd.jupyter.widget-view+json": {
       "model_id": "8662d4712fc342888f34daf5c2596492",
       "version_major": 2,
       "version_minor": 0
      },
      "text/plain": [
       "  0%|          | 0/100 [00:00<?, ?it/s]"
      ]
     },
     "metadata": {},
     "output_type": "display_data"
    }
   ],
   "source": [
    "scrape_billboard()"
   ]
  },
  {
   "cell_type": "code",
   "execution_count": 12,
   "metadata": {},
   "outputs": [],
   "source": [
    "def song_recommender():\n",
    "\n",
    "    print('Hey there,')\n",
    "    sleep(0.2)\n",
    "    print('I\\'m a song recomendation engine.')\n",
    "    sleep(0.2)\n",
    "    print('hot song >>> another hot song')\n",
    "    sleep(0.2)\n",
    "    print('some other song >>> instrumental study song')\n",
    "    sleep(0.2)\n",
    "    print('Sound good?')\n",
    "    sleep(0.2)\n",
    "    print('Enter a song: \\n')\n",
    "\n",
    "    attempts = 0\n",
    "    while attempts < 5:\n",
    "\n",
    "    # input\n",
    "\n",
    "        song = input('Type in a song: ')\n",
    "\n",
    "    # no input: continue asking\n",
    "\n",
    "        if song == '':\n",
    "            attempts +=1\n",
    "            if attempts == 5:\n",
    "                print('That\\'s it. I give up! You\\'ll have to try again later!')\n",
    "            else:\n",
    "                print('At least type something...')\n",
    "        \n",
    "        # if not a match:\n",
    "\n",
    "        elif ((scrape_billboard.df['title'].apply(lambda x:x.lower()) == song.lower()) == False).all():\n",
    "\n",
    "                # searching spotify\n",
    "                song_recommender.song_spotify = sp.search(q=song)\n",
    "                # check if there is a near match\n",
    "                string_list = []\n",
    "                for row in range(len(scrape_billboard.df['title'])):\n",
    "                    Str1 = song\n",
    "                    Str2 = scrape_billboard.df.iloc[row]['title']\n",
    "                    distance = lev.distance(Str1.lower(),Str2.lower())\n",
    "                    if distance < 3:\n",
    "                        string_list.append(Str2)\n",
    "\n",
    "                if bool(string_list):\n",
    "\n",
    "                    for string in string_list:\n",
    "\n",
    "                        artist_input = scrape_billboard.df[scrape_billboard.df['title'].apply(lambda x:x.lower()) == string.lower()]['artist'].item()\n",
    "                        print('Did you mean', '\\''+string+'\\'', 'by', artist_input + '? Because that\\'s a hot song right now!')\n",
    "                        answer = input('Yes or no?')\n",
    "\n",
    "                        rand = random.randint(0, 100)\n",
    "\n",
    "                        if answer.lower() == 'yes':\n",
    "\n",
    "                            if rand != int(scrape_billboard.df[scrape_billboard.df['title'].apply(lambda x:x.lower()) == string.lower()]['rank']):\n",
    "\n",
    "                                suggested_title = scrape_billboard.df[scrape_billboard.df['rank'] == rand]['title'].item()\n",
    "\n",
    "                                suggested_artist = scrape_billboard.df[scrape_billboard.df['rank'] == rand]['artist'].item()\n",
    "\n",
    "                                print('Nice one. Here\\'s another song you might like then: ', '\\''+suggested_title+'\\'', \n",
    "                                'by',suggested_artist)\n",
    "\n",
    "                            # show player\n",
    "\n",
    "                                song_recommender.song_spotify = sp.search(q=suggested_title)\n",
    "                                id = song_recommender.song_spotify['tracks']['items'][0]['id']\n",
    "                                display(IFrame(src=f\"https://open.spotify.com/embed/track/{id}\",\n",
    "                                width=\"320\",\n",
    "                                height=\"80\",\n",
    "                                frameborder=\"0\",\n",
    "                                allowtransparency=\"true\",\n",
    "                                allow=\"encrypted-media\",\n",
    "                                ))\n",
    "                        else:\n",
    "                            print('Ah shucks. Let\\'s have a look on Spotify then.')\n",
    "                        \n",
    "                            spotify_search_2()\n",
    "\n",
    "                    break\n",
    "                #integrating spotify\n",
    "\n",
    "                elif bool(song_recommender.song_spotify['tracks']['items']):\n",
    "                    # combining feature lookup and spotify reccommender\n",
    "                    \n",
    "                    spotify_search()\n",
    "\n",
    "                    break\n",
    "\n",
    "                else:\n",
    "                    attempts +=1\n",
    "                    if attempts == 5:\n",
    "                        print('That\\'s it. I give up! You\\'ll have to try again later!')\n",
    "                    else:\n",
    "                        print('Sorry bro, we can\\'t find that song. Try something else.')\n",
    "\n",
    "        # if match: response + suggest new song\n",
    "\n",
    "        elif scrape_billboard.df['title'].apply(lambda x:x.lower()).str.contains(song.lower()).any():\n",
    "            \n",
    "            song_input = scrape_billboard.df[scrape_billboard.df['title'].apply(lambda x:x.lower()) == song.lower()]['title'].item()\n",
    "            artist_input = scrape_billboard.df[scrape_billboard.df['title'].apply(lambda x:x.lower()) == song.lower()]['artist'].item()\n",
    "            \n",
    "            print('Good choice!', '\\''+song_input+'\\'', 'by', artist_input, 'is a hot song right now!' )\n",
    "\n",
    "            rand = random.randint(0, 100)\n",
    "\n",
    "            if rand != int(scrape_billboard.df[scrape_billboard.df['title'].apply(lambda x:x.lower()) == song.lower()]['rank']):\n",
    "                \n",
    "                suggested_title = scrape_billboard.df[scrape_billboard.df['rank'] == rand]['title'].item()\n",
    "\n",
    "                suggested_artist = scrape_billboard.df[scrape_billboard.df['rank'] == rand]['artist'].item()\n",
    "\n",
    "                print('Here\\'s another song you might like:', '\\''+suggested_title+'\\'', \n",
    "                'by', suggested_artist)\n",
    "\n",
    "                # show player\n",
    "\n",
    "                song_recommender.song_spotify = sp.search(q=suggested_title)\n",
    "                id = song_recommender.song_spotify['tracks']['items'][0]['id']\n",
    "                display(IFrame(src=f\"https://open.spotify.com/embed/track/{id}\",\n",
    "                width=\"320\",\n",
    "                height=\"80\",\n",
    "                frameborder=\"0\",\n",
    "                allowtransparency=\"true\",\n",
    "                allow=\"encrypted-media\",\n",
    "                ))\n",
    "\n",
    "                break"
   ]
  },
  {
   "cell_type": "code",
   "execution_count": null,
   "metadata": {},
   "outputs": [
    {
     "name": "stdout",
     "output_type": "stream",
     "text": [
      "Hey there,\n",
      "I'm a song recomendation engine.\n",
      "hot song >>> another hot song\n",
      "some other song >>> instrumental study song\n",
      "Sound good?\n",
      "Enter a song: \n",
      "\n"
     ]
    }
   ],
   "source": [
    "song_recommender()"
   ]
  },
  {
   "cell_type": "code",
   "execution_count": null,
   "metadata": {},
   "outputs": [],
   "source": []
  },
  {
   "cell_type": "code",
   "execution_count": null,
   "metadata": {},
   "outputs": [],
   "source": []
  },
  {
   "cell_type": "code",
   "execution_count": 14,
   "metadata": {},
   "outputs": [],
   "source": [
    "# fix duplicates \n",
    "# fix typing in nonsense\n",
    "# need to ask whether that was the song someone meant"
   ]
  }
 ],
 "metadata": {
  "interpreter": {
   "hash": "aa2d5c2f16a8e749f1d48e9a236e4b14f675e3e0a88517126fa8ace0eecda256"
  },
  "kernelspec": {
   "display_name": "Python 3 (ipykernel)",
   "language": "python",
   "name": "python3"
  },
  "language_info": {
   "codemirror_mode": {
    "name": "ipython",
    "version": 3
   },
   "file_extension": ".py",
   "mimetype": "text/x-python",
   "name": "python",
   "nbconvert_exporter": "python",
   "pygments_lexer": "ipython3",
   "version": "3.9.7"
  }
 },
 "nbformat": 4,
 "nbformat_minor": 2
}

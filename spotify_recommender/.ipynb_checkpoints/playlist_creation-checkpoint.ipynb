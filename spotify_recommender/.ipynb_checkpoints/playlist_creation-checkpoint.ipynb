{
 "cells": [
  {
   "cell_type": "markdown",
   "metadata": {},
   "source": [
    "# Creating my Library of songs for model"
   ]
  },
  {
   "cell_type": "code",
   "execution_count": 10,
   "metadata": {},
   "outputs": [],
   "source": [
    "import spotipy\n",
    "from spotipy.oauth2 import SpotifyClientCredentials\n",
    "import pandas as pd\n",
    "from tqdm.notebook import tqdm"
   ]
  },
  {
   "cell_type": "markdown",
   "metadata": {},
   "source": [
    "## Credentials"
   ]
  },
  {
   "cell_type": "code",
   "execution_count": 3,
   "metadata": {},
   "outputs": [],
   "source": [
    "import getpass"
   ]
  },
  {
   "cell_type": "code",
   "execution_count": 4,
   "metadata": {},
   "outputs": [],
   "source": [
    "client_id = str(getpass.getpass('client_id'))\n",
    "client_secret = str(getpass.getpass('client_secret'))"
   ]
  },
  {
   "cell_type": "code",
   "execution_count": 5,
   "metadata": {},
   "outputs": [],
   "source": [
    "sp = spotipy.Spotify(auth_manager=SpotifyClientCredentials(client_id=client_id, client_secret=client_secret))"
   ]
  },
  {
   "cell_type": "markdown",
   "metadata": {},
   "source": [
    "## Getting playlist"
   ]
  },
  {
   "cell_type": "code",
   "execution_count": 6,
   "metadata": {},
   "outputs": [],
   "source": [
    "playstrings='''popular=https://open.spotify.com/playlist/4muHyvSwG1wP9sI4XihC5w\n",
    "rock=https://open.spotify.com/playlist/2uhsnHgI4F2eFyvoMHY0GR\n",
    "beats=https://open.spotify.com/playlist/37i9dQZF1DWYoYGBbGKurt\n",
    "pop=https://open.spotify.com/playlist/3rPI2X9xN3SQSmk651RGEU\n",
    "dance=https://open.spotify.com/playlist/37i9dQZF1DX8QHI5qVTd7o\n",
    "soft=https://open.spotify.com/playlist/37i9dQZF1DXdPDLmy88MDk\n",
    "calm=https://open.spotify.com/playlist/37i9dQZF1DX9j444F9NCBa\n",
    "christmas=https://open.spotify.com/playlist/3ggRyPeN5BcQSBJ2UB6G8L\n",
    "rap=https://open.spotify.com/playlist/7ns2j1qpUpu95UbkyEnxZ5\n",
    "blues=https://open.spotify.com/playlist/3IK20G5ifusF0vyUdU2Vj6\n",
    "reading=https://open.spotify.com/playlist/37i9dQZF1DX7hmlhGsyxU0\n",
    "chilled=https://open.spotify.com/playlist/37i9dQZF1DWWyzrCBLOEA6\n",
    "madness=https://open.spotify.com/playlist/37i9dQZF1DWUk47CLxI4Uo\n",
    "melon=https://open.spotify.com/playlist/37i9dQZF1DWZrc3lwvImLj\n",
    "christmas_hymns=https://open.spotify.com/playlist/37i9dQZF1DWViKwLyOBsJF\n",
    "sweater_weather=https://open.spotify.com/playlist/37i9dQZF1DWUvZBXGjNCU4\n",
    "intrumental_pop=https://open.spotify.com/playlist/4s6BkxYZKg0OeIJClhpsO5\n",
    "celtic_folk=https://open.spotify.com/playlist/37i9dQZF1DX5b3XEYmInJL\n",
    "movie=https://open.spotify.com/playlist/49zAwMGBMzgYEnJLHa1LrH\n",
    "sleepy=https://open.spotify.com/playlist/6sPhscQ7qwHdrKvApvfKET\n",
    "french=https://open.spotify.com/playlist/26kqBD9iGe0s2dWxlipziV\n",
    "flamenco=https://open.spotify.com/playlist/7zZqH2LkjgIXBEuAO7iXPa\n",
    "salsa=https://open.spotify.com/playlist/17Lyr8sjxKUuLjNOLObCcM\n",
    "evening=https://open.spotify.com/playlist/4FhaOTNLDy66b9hK4gVqfg\n",
    "upbeat=https://open.spotify.com/playlist/5C9lDDPLBwTLWnFz5Qlazz\n",
    "lofi_sleep=https://open.spotify.com/playlist/1wIiq1eaCj73Bqyw0cWRvn\n",
    "ludivico=https://open.spotify.com/playlist/4QsobJmfOZdHW83xadtPGn\n",
    "piano=https://open.spotify.com/playlist/37i9dQZF1DX4sWSpwq3LiO\n",
    "lofi_garden=https://open.spotify.com/playlist/37i9dQZF1DX4t95PAs1EpY\n",
    "peaceful_guitar=https://open.spotify.com/playlist/37i9dQZF1DX0jgyAiPl8Af\n",
    "light_acedemia=https://open.spotify.com/playlist/37i9dQZF1DX1jDTenPbqLo\n",
    "focus_jazz=https://open.spotify.com/playlist/37i9dQZF1DX8wWHvPMMfNA\n",
    "energy_release=https://open.spotify.com/playlist/37i9dQZF1DX0YwbagSTSJv\n",
    "chill_out=https://open.spotify.com/playlist/37i9dQZF1DX32oVqaQE8BM\n",
    "chopin_noturnes=https://open.spotify.com/playlist/37i9dQZF1DX99gNWyxQ2OR\n",
    "blues_piano=https://open.spotify.com/playlist/37i9dQZF1DWTK9gSXKWMMx\n",
    "deep_focus=https://open.spotify.com/playlist/37i9dQZF1DWZeKCadgRdKQ\n",
    "shoe_gaze=https://open.spotify.com/playlist/37i9dQZF1DWYIlyW5yvFjI\n",
    "atmos_piano=https://open.spotify.com/playlist/37i9dQZF1DWURCUKHUKWCX\n",
    "mozart=https://open.spotify.com/playlist/37i9dQZF1DWZXEfPGehn06\n",
    "feel_good_piano=https://open.spotify.com/playlist/37i9dQZF1DXcEKFjZJYZcc\n",
    "perfect_concentration=https://open.spotify.com/playlist/37i9dQZF1DWSluGMsH1R9r\n",
    "sleepy_piano=https://open.spotify.com/playlist/37i9dQZF1DX03b46zi3S82\n",
    "wake_up_gently=https://open.spotify.com/playlist/37i9dQZF1DX7cZxYLqLUJl\n",
    "book_club=https://open.spotify.com/playlist/37i9dQZF1DWYWyJFR69WAN\n",
    "read_unwind=https://open.spotify.com/playlist/37i9dQZF1DXcY4tn4nPCV1\n",
    "shimmering_strings=https://open.spotify.com/playlist/37i9dQZF1DX2XWJkYVfE4v\n",
    "mellow_cello=https://open.spotify.com/playlist/37i9dQZF1DX9dX3aBjsxqd\n",
    "kora_chill=https://open.spotify.com/playlist/37i9dQZF1DX8NCuSFtLG2H\n",
    "calming_retreat=https://open.spotify.com/playlist/37i9dQZF1DWYaxoJ3YwOh3\n",
    "relaxing_classical=https://open.spotify.com/playlist/37i9dQZF1DWXBq4mDDFnfA\n",
    "jazz_guitar_classics=https://open.spotify.com/playlist/37i9dQZF1DWV8SP2WsR9MK\n",
    "meditative_guitar=https://open.spotify.com/playlist/37i9dQZF1DWSAqa5cw6DxQ\n",
    "floating_space=https://open.spotify.com/playlist/37i9dQZF1DX1n9whBbBKoL\n",
    "ambient_relax=https://open.spotify.com/playlist/37i9dQZF1DX3Ogo9pFvBkY\n",
    "battle_beats=https://open.spotify.com/playlist/37i9dQZF1DWTpLDJazDBum\n",
    "gold_instument=https://open.spotify.com/playlist/37i9dQZF1DX0dU0Z2LOkZN\n",
    "lofi_study=https://open.spotify.com/playlist/37i9dQZF1DX8Uebhn9wzrS\n",
    "jazz_vibes=https://open.spotify.com/playlist/37i9dQZF1DX0SM0LYsmbMT\n",
    "lofi_mellow=https://open.spotify.com/playlist/37i9dQZF1DX6QClArDhvcW\n",
    "lofi_lush=https://open.spotify.com/playlist/37i9dQZF1DXc8kgYqQLMfH\n",
    "flow_focus=https://open.spotify.com/playlist/37i9dQZF1DWZZbwlv3Vmtr\n",
    "moonlight=https://open.spotify.com/playlist/37i9dQZF1DXdipfKDeMPTE\n",
    "lofi_cafe=https://open.spotify.com/playlist/37i9dQZF1DX9RwfGbeGQwP\n",
    "all_nighter=https://open.spotify.com/playlist/37i9dQZF1DX692WcMwL2yW\n",
    "mellow_beats=https://open.spotify.com/playlist/37i9dQZF1DX3qCx5yEZkcJ\n",
    "level_up=https://open.spotify.com/playlist/37i9dQZF1DX1bJXtym592H'''.split()"
   ]
  },
  {
   "cell_type": "code",
   "execution_count": 7,
   "metadata": {},
   "outputs": [],
   "source": [
    "playlists = []\n",
    "\n",
    "for string in playstrings:\n",
    "    playlists.append(string[-22:])"
   ]
  },
  {
   "cell_type": "code",
   "execution_count": 8,
   "metadata": {},
   "outputs": [],
   "source": [
    "def get_playlist_tracks(playlist_id):\n",
    "    results = sp.playlist_tracks(playlist_id)\n",
    "    tracks = results['items']\n",
    "    while results['next']:\n",
    "        results = sp.next(results)\n",
    "        tracks.extend(results['items'])\n",
    "    return tracks"
   ]
  },
  {
   "cell_type": "code",
   "execution_count": 9,
   "metadata": {},
   "outputs": [],
   "source": [
    "all_tracks = []\n",
    "\n",
    "for playlist_id in playlists:\n",
    "    \n",
    "    results = sp.playlist_tracks(playlist_id)\n",
    "    tracks = results['items']\n",
    "    while results['next']:\n",
    "        results = sp.next(results)\n",
    "        tracks.extend(results['items'])\n",
    "\n",
    "    all_tracks.append(tracks)"
   ]
  },
  {
   "cell_type": "code",
   "execution_count": null,
   "metadata": {},
   "outputs": [],
   "source": []
  },
  {
   "cell_type": "code",
   "execution_count": 12,
   "metadata": {},
   "outputs": [],
   "source": [
    "names = []\n",
    "ids = []\n",
    "artist = []\n",
    "\n",
    "for playlist in range(len(all_tracks)):\n",
    "    for song in range(len(all_tracks[playlist])):\n",
    "\n",
    "        names.append(all_tracks[playlist][song]['track']['name'])\n",
    "        ids.append(all_tracks[playlist][song]['track']['id'])\n",
    "        artist.append(all_tracks[playlist][song]['track']['artists'][0]['name'])"
   ]
  },
  {
   "cell_type": "code",
   "execution_count": 13,
   "metadata": {},
   "outputs": [],
   "source": [
    "df = pd.DataFrame({'song':names, 'artist':artist, 'track_id':ids})"
   ]
  },
  {
   "cell_type": "code",
   "execution_count": 16,
   "metadata": {},
   "outputs": [
    {
     "data": {
      "text/plain": [
       "(9055, 9055)"
      ]
     },
     "execution_count": 16,
     "metadata": {},
     "output_type": "execute_result"
    }
   ],
   "source": [
    "len(df.drop_duplicates()), len(df)"
   ]
  },
  {
   "cell_type": "code",
   "execution_count": 17,
   "metadata": {},
   "outputs": [],
   "source": [
    "df = df.drop_duplicates().dropna().reset_index()"
   ]
  },
  {
   "cell_type": "code",
   "execution_count": 18,
   "metadata": {},
   "outputs": [
    {
     "data": {
      "application/vnd.jupyter.widget-view+json": {
       "model_id": "63d070948a9a4429b6462fbc09fc7458",
       "version_major": 2,
       "version_minor": 0
      },
      "text/plain": [
       "  0%|          | 0/9055 [00:00<?, ?it/s]"
      ]
     },
     "metadata": {},
     "output_type": "display_data"
    }
   ],
   "source": [
    "audio_features = []\n",
    "\n",
    "for track_id in tqdm(range(len(df))):\n",
    "    audio_features.extend(sp.audio_features(tracks=df['track_id'][track_id]))"
   ]
  },
  {
   "cell_type": "code",
   "execution_count": 30,
   "metadata": {},
   "outputs": [],
   "source": [
    "audio_features = [i for i in audio_features if i]"
   ]
  },
  {
   "cell_type": "code",
   "execution_count": 32,
   "metadata": {},
   "outputs": [],
   "source": [
    "audio = pd.DataFrame(audio_features)"
   ]
  },
  {
   "cell_type": "code",
   "execution_count": 34,
   "metadata": {},
   "outputs": [],
   "source": [
    "audio.to_csv('audio_features_instrumentals.csv')"
   ]
  },
  {
   "cell_type": "code",
   "execution_count": 39,
   "metadata": {},
   "outputs": [],
   "source": [
    "full_df = pd.merge(left=audio, right=df, left_on='id', right_on='track_id')"
   ]
  },
  {
   "cell_type": "code",
   "execution_count": 42,
   "metadata": {},
   "outputs": [],
   "source": [
    "full_df.to_csv('full_features.csv')"
   ]
  }
 ],
 "metadata": {
  "interpreter": {
   "hash": "aa2d5c2f16a8e749f1d48e9a236e4b14f675e3e0a88517126fa8ace0eecda256"
  },
  "kernelspec": {
   "display_name": "Python 3 (ipykernel)",
   "language": "python",
   "name": "python3"
  },
  "language_info": {
   "codemirror_mode": {
    "name": "ipython",
    "version": 3
   },
   "file_extension": ".py",
   "mimetype": "text/x-python",
   "name": "python",
   "nbconvert_exporter": "python",
   "pygments_lexer": "ipython3",
   "version": "3.9.7"
  }
 },
 "nbformat": 4,
 "nbformat_minor": 2
}
